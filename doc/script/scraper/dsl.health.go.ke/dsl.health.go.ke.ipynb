{
 "cells": [
  {
   "cell_type": "code",
   "execution_count": null,
   "id": "7c89731b",
   "metadata": {},
   "outputs": [],
   "source": [
    "import pandas as pd\n",
    "import requests as r\n",
    "import json"
   ]
  },
  {
   "cell_type": "code",
   "execution_count": null,
   "id": "39fef7ff",
   "metadata": {},
   "outputs": [],
   "source": [
    "API_URL = \"http://dsl.health.go.ke/dsl/api\""
   ]
  },
  {
   "cell_type": "code",
   "execution_count": null,
   "id": "c4c86994",
   "metadata": {},
   "outputs": [],
   "source": [
    "administrative = [{\n",
    "    \"id\": '18',\n",
    "    \"parentid\": None,\n",
    "    \"level\": '1',\n",
    "    \"name\": \"KENYA\"\n",
    "}]\n",
    "\n",
    "administrative_levels = ['counties','subcounties','wards']"
   ]
  },
  {
   "cell_type": "code",
   "execution_count": null,
   "id": "e8d181ce",
   "metadata": {},
   "outputs": [],
   "source": [
    "for level in administrative_levels:\n",
    "    data = r.get(f\"{API_URL}/{level}\")\n",
    "    data = json.loads(data.text)\n",
    "    administrative += data"
   ]
  },
  {
   "cell_type": "code",
   "execution_count": null,
   "id": "17d58be4",
   "metadata": {},
   "outputs": [],
   "source": [
    "administrative = pd.DataFrame(administrative)\n",
    "administrative.to_csv(\"./administrative.csv\", index=False)"
   ]
  },
  {
   "cell_type": "code",
   "execution_count": null,
   "id": "f726d4f0",
   "metadata": {},
   "outputs": [],
   "source": [
    "facilities = []"
   ]
  },
  {
   "cell_type": "code",
   "execution_count": null,
   "id": "09307313",
   "metadata": {},
   "outputs": [],
   "source": [
    "facility_levels = r.get(f\"{API_URL}/facilitylevel\")\n",
    "facility_levels = json.loads(facility_levels.text)"
   ]
  },
  {
   "cell_type": "code",
   "execution_count": null,
   "id": "22831f9e",
   "metadata": {},
   "outputs": [],
   "source": [
    "for level in facility_levels:\n",
    "    level_id = level[\"id\"]\n",
    "    facilities_in_level = r.get(f\"{API_URL}/facilitylevel/{level_id}\")\n",
    "    facilities_in_level = json.loads(facilities_in_level.text)\n",
    "    # Fix Strange Level\n",
    "    for facility in facilities_in_level:\n",
    "        administration = administrative[\n",
    "            administrative[\"id\"] == facility[\"parentid\"]\n",
    "        ].reset_index()[\"name\"][0]\n",
    "        facility.update({\n",
    "            \"facility_level\": level_id,\n",
    "            \"administration_name\": administration\n",
    "        })\n",
    "        facilities.append(facility)"
   ]
  },
  {
   "cell_type": "code",
   "execution_count": null,
   "id": "17d74c88",
   "metadata": {},
   "outputs": [],
   "source": [
    "facilities = pd.DataFrame(facilities)\n",
    "facilities.to_csv(\"./facilities.csv\", index=False)"
   ]
  },
  {
   "cell_type": "code",
   "execution_count": null,
   "id": "e1674e1b",
   "metadata": {},
   "outputs": [],
   "source": []
  }
 ],
 "metadata": {
  "kernelspec": {
   "display_name": "Python 3 (ipykernel)",
   "language": "python",
   "name": "python3"
  },
  "language_info": {
   "codemirror_mode": {
    "name": "ipython",
    "version": 3
   },
   "file_extension": ".py",
   "mimetype": "text/x-python",
   "name": "python",
   "nbconvert_exporter": "python",
   "pygments_lexer": "ipython3",
   "version": "3.10.7"
  }
 },
 "nbformat": 4,
 "nbformat_minor": 5
}
