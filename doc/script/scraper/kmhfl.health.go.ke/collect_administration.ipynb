{
 "cells": [
  {
   "cell_type": "code",
   "execution_count": 26,
   "id": "eaa16c1d",
   "metadata": {},
   "outputs": [],
   "source": [
    "import pandas as pd\n",
    "import json\n",
    "import os"
   ]
  },
  {
   "cell_type": "code",
   "execution_count": 27,
   "id": "e4284b4f",
   "metadata": {},
   "outputs": [],
   "source": [
    "matching_files = []\n",
    "all_files = os.listdir(\"./\")\n",
    "for filename in all_files:\n",
    "    if filename.startswith(\"administrative-lv\") and filename.endswith(\".json\"):\n",
    "        matching_files.append(filename)"
   ]
  },
  {
   "cell_type": "code",
   "execution_count": 29,
   "id": "5ee980a6",
   "metadata": {},
   "outputs": [],
   "source": [
    "kenya_id = \"abcdef90\"\n",
    "all_data = [{\n",
    "    \"id\": kenya_id,\n",
    "    \"parent\": None,\n",
    "    \"name\": \"Kenya\",\n",
    "}]\n",
    "for filename in sorted(matching_files):\n",
    "    with open(f\"./{filename}\", \"r\") as f:\n",
    "        temp_data = json.loads(f.read())\n",
    "        for t in temp_data:\n",
    "            if \"lv-2\" in filename:\n",
    "                t.update({\"parent\":kenya_id})\n",
    "            elif \"lv-3\" in filename or \"lv-4\" in filename:\n",
    "                t.update({\"parent\": t.get(\"county\")})\n",
    "            if \"lv-5\" in filename:\n",
    "                t.update({\"parent\": t.get(\"constituency\")})\n",
    "            all_data.append({\n",
    "                \"id\": t.get(\"id\"),\n",
    "                \"parent\": t.get(\"parent\"),\n",
    "                \"name\": t.get(\"name\")\n",
    "            })"
   ]
  },
  {
   "cell_type": "code",
   "execution_count": 34,
   "id": "5c4ba535",
   "metadata": {},
   "outputs": [],
   "source": [
    "pd.DataFrame(all_data).to_csv(\"./administrative.csv\", index=False)"
   ]
  },
  {
   "cell_type": "code",
   "execution_count": null,
   "id": "d2bf732a",
   "metadata": {},
   "outputs": [],
   "source": []
  }
 ],
 "metadata": {
  "kernelspec": {
   "display_name": "Python 3 (ipykernel)",
   "language": "python",
   "name": "python3"
  },
  "language_info": {
   "codemirror_mode": {
    "name": "ipython",
    "version": 3
   },
   "file_extension": ".py",
   "mimetype": "text/x-python",
   "name": "python",
   "nbconvert_exporter": "python",
   "pygments_lexer": "ipython3",
   "version": "3.10.7"
  }
 },
 "nbformat": 4,
 "nbformat_minor": 5
}
