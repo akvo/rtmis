{
 "cells": [
  {
   "cell_type": "code",
   "execution_count": 13,
   "id": "2b5c55d5-0107-4307-95c8-eeffc4387243",
   "metadata": {},
   "outputs": [],
   "source": [
    "import requests as r\n",
    "import pandas as pd\n",
    "import json\n",
    "import random\n",
    "from faker import Faker"
   ]
  },
  {
   "cell_type": "code",
   "execution_count": 14,
   "id": "480bd5ad-c3c2-4981-b7eb-06121d44b109",
   "metadata": {},
   "outputs": [],
   "source": [
    "fake = Faker()\n",
    "base_url = 'https://form-service.akvotest.org/api/form/'\n",
    "geopoints_file = './random_households_geo.xlsx'\n",
    "number_of_datapoints = 10"
   ]
  },
  {
   "cell_type": "code",
   "execution_count": 15,
   "id": "7766ea00-04b2-4838-b887-dfaf5d6b05ff",
   "metadata": {},
   "outputs": [],
   "source": [
    "forms = [{\n",
    "    \"id\":1699353915355,\n",
    "    \"name\": \"Households\",\n",
    "    \"registration\": {\n",
    "        \"1699354220734\": \"New\"\n",
    "    },\n",
    "    \"meta\": \"random_households_geo\"\n",
    "},{\n",
    "    \"id\": 1701757876668,\n",
    "    \"name\": \"Wash in Schools\",\n",
    "    \"registration\": {\n",
    "        \"1701757914033\": \"New\"\n",
    "    },\n",
    "    \"meta\": \"base_village\"\n",
    "},{\n",
    "    \"id\": 1699354006503,\n",
    "    \"name\": \"Community\",\n",
    "    \"registration\": {\n",
    "        \"1699354006535\": \"New\"\n",
    "    },\n",
    "    \"meta\": \"base_village\"\n",
    "}]"
   ]
  },
  {
   "cell_type": "code",
   "execution_count": 17,
   "id": "927a9956-f52f-42c4-b5f4-8cc67a280675",
   "metadata": {
    "scrolled": true
   },
   "outputs": [],
   "source": [
    "def generate_fake_data_for_question(question, answers, geo_value):\n",
    "    q_type = question['type']\n",
    "    # Check dependencies\n",
    "    if 'dependency' in question:\n",
    "        for dependency in question['dependency']:\n",
    "            dependent_question_id = dependency['id']\n",
    "            if dependent_question_id not in answers or \\\n",
    "               answers[dependent_question_id] not in dependency.get('options', []):\n",
    "                return None\n",
    "    if q_type == 'input':\n",
    "        return fake.name()\n",
    "    if q_type == 'text':\n",
    "            return fake.paragraph()\n",
    "    elif q_type == 'number':\n",
    "        return random.randint(1, 100)\n",
    "    elif q_type == 'option':\n",
    "        return random.choice(question['option'])['name']\n",
    "    elif q_type == 'multiple_option':\n",
    "        options = [option['name'] for option in question['option']]\n",
    "        num_choices = random.randint(1, len(options))\n",
    "        return random.sample(options, num_choices)\n",
    "    elif q_type == 'date':\n",
    "        return fake.date()\n",
    "    elif q_type == 'geo':\n",
    "        return geo_value\n",
    "    elif q_type == 'autofield':\n",
    "        return \"AUTOFIELD\"\n",
    "    else:\n",
    "        return q_type"
   ]
  },
  {
   "cell_type": "code",
   "execution_count": 18,
   "id": "9166d3fd-de17-49e9-ac33-99081237a74b",
   "metadata": {},
   "outputs": [],
   "source": [
    "def generate_datapoint(questions, geo_value, registration):\n",
    "    fake_datapoint = {}\n",
    "    registration_ids = []\n",
    "    if registration:\n",
    "        fake_datapoint = registration.copy()\n",
    "        registration_ids = [int(reg) for reg in list(registration)]\n",
    "    for question in questions:\n",
    "        answer = None\n",
    "        if question[\"id\"] not in registration_ids:\n",
    "            answer = generate_fake_data_for_question(question, fake_datapoint, geo_value)\n",
    "        else:\n",
    "            answer = registration.get(question[\"id\"])\n",
    "        if answer is not None:\n",
    "            fake_datapoint[question['id']] = answer\n",
    "    return fake_datapoint"
   ]
  },
  {
   "cell_type": "code",
   "execution_count": 19,
   "id": "9892ad55-ce34-415a-889a-93b68c03abc2",
   "metadata": {},
   "outputs": [],
   "source": [
    "def generate_datapoints(form_id, registration, metadata):\n",
    "    req = r.get(f\"{base_url}{form_id}\")\n",
    "    req = req.json()\n",
    "    question_groups = req['question_group']\n",
    "    questions = [\n",
    "        {**question, 'qg_id': group['id']} \n",
    "        for group in question_groups \n",
    "        for question in group['question']\n",
    "    ]\n",
    "    fake_data = []\n",
    "    for i in range(metadata.shape[0]):\n",
    "        meta_row = dict(metadata.iloc[i])\n",
    "        geo_value = {'lat': float(meta_row.get('Latitude')), 'lng': float(meta_row.get('Longitude'))}\n",
    "        fake_datapoint = generate_datapoint(questions, geo_value, registration)\n",
    "        fake_data.append({**meta_row, **fake_datapoint})\n",
    "    return fake_data, questions"
   ]
  },
  {
   "cell_type": "code",
   "execution_count": 20,
   "id": "ec1e4e6b-df55-443c-80ee-93a0da599cb6",
   "metadata": {},
   "outputs": [],
   "source": [
    "def get_metadata(form):\n",
    "    meta = pd.read_excel(geopoints_file, form.get('meta'))\n",
    "    for col in list(meta):\n",
    "        if 'code' in col:\n",
    "            meta[col] = meta[col].astype(int)\n",
    "    return meta"
   ]
  },
  {
   "cell_type": "code",
   "execution_count": 24,
   "id": "5e46acc6-833f-4233-8dad-a0bf7ac3d7e5",
   "metadata": {},
   "outputs": [
    {
     "name": "stdout",
     "output_type": "stream",
     "text": [
      "{1699354006535: '1699354006535|New Community or Monitoring update?', 1699951210638: '1699951210638|What is the location of the community?', 1699951425330: '1699951425330|Geolocation of the community', 1699951538608: '1699951538608|Community respondent: role in community', 1699951727891: '1699951727891|Number of households in community', 1699951878044: '1699951878044|Number of at-risk households', 1699951986776: '1699951986776|Soil type in community', 1699952153243: '1699952153243|Depth to groundwater in community', 1699952219561: '1699952219561|Water supply protection in community', 1699952295823: '1699952295823|Use of groundwater for drinking water supply', 1699952355848: '1699952355848|Distance of toilets from groundwater sources', 1699952418978: '1699952418978|Toilets uphill from groundwater sources', 1702364544574: '1702364544574|Outcome result - Ground water contamination', 1699958188283: '1699958188283|G1: Number of households who own a toilet', 1699958382023: '1699958382023|G2: Number of households using durable toilets with safe containment', 1699958427807: '1699958427807|G3: Number of households with permanent handwashing stations', 1699958464968: '1699958464968|G1: Number of at-risk households who own a toilet', 1699958555723: '1699958555723|G2: Number of at-risk households using durable toilets with safe containment', 1699958568410: '1699958568410|G3: Number of at-risk households with permanent handwashing stations', 1699958670124: '1699958670124|Action plan for G2 status', 1699958822791: '1699958822791|Action plan for G3 status', 1699958882006: '1699958882006|Change in number of households who live permanently in this community?', 1699959384611: '1699959384611|Update: Number of households in community', 1699959218676: '1699959218676|Change in any number of at-risk households?', 1699959255650: '1699959255650|Update: Number of at-risk households', 1699959649782: '1699959649782|No exposed human excreta in communal areas', 1702303499563: '1702303499563|Outcome result - No exposed human excreta', 1699959743410: '1699959743410|Safe management of diapers in communal areas', 1702303769667: '1702303769667|Outcome result - Safe management of diapers', 1699959861479: '1699959861479|Clean communal water points', 1699960025562: '1699960025562|Protected communal water points', 1699960104326: '1699960104326|Well drained communal water points', 1702303919369: '1702303919369|Outcome result - Safe management of communal water sources', 1699960255414: '1699960255414|Safely managed sanitation services', 1702304803791: '1702304803791|Outcome result - Use of safely managed sanitation services', 1699960354498: '1699960354498|Drainage for stormwater in communal areas', 1702306876033: '1702306876033|Outcome result - Safe management of liquid wastes', 1699960411329: '1699960411329|No visible solid wastes in communal areas', 1702307100780: '1702307100780|Outcome result - Safe management of solid wastes', 1699960488230: '1699960488230|No standing water in communal areas', 1699960542156: '1699960542156|Treated larval breeding sites in communal areas', 1702307258403: '1702307258403|Outcome result - Good vector control in communal areas', 1699960591715: '1699960591715|Type of institution', 1699960963586: '1699960963586|Functional institutional toilet', 1699961175102: '1699961175102|Flyproof institutional toilet', 1699961260729: '1699961260729|Clean institutional toilet', 1699961309670: '1699961309670|Durable institutional toilet slab', 1699961394874: '1699961394874|Durable institutional toilet pits', 1699961577575: '1699961577575|Safely managed institutional toilet containment', 1699961683357: '1699961683357|Safely managed on-site containment in institutional toilet', 1699961882642: '1699961882642|Safely managed institutional sanitation services', 1699962081417: '1699962081417|Handwashing facility observed in institution', 1699962192648: '1699962192648|Water available at institutional HWF', 1699962251539: '1699962251539|Soap available at institutional HWF', 1699962342866: '1699962342866|Institutional handwashing facility type', 1699962446974: '1699962446974|Hands-free operation of institutional handwashing facility', 1699962527375: '1699962527375|Adequate drainage of washing water'}\n"
     ]
    }
   ],
   "source": [
    "for form in forms:\n",
    "    form_id = form['id']\n",
    "    form_name = form['name']\n",
    "    registration = form.get(\"registration\")\n",
    "    metadata = get_metadata(form)\n",
    "    datapoints, questions = generate_datapoints(form_id, registration, metadata)\n",
    "    final_data = pd.DataFrame(datapoints)\n",
    "    column_names = {q['id']:f\"{q['id']}|{q['name']}\" for q in questions}\n",
    "    final_data = final_data.rename(columns=column_names)\n",
    "    final_data.to_csv(f\"{form_id}-{form_name}.csv\",index=False)"
   ]
  },
  {
   "cell_type": "code",
   "execution_count": null,
   "id": "b5f351c1-d9fc-4a2e-b0b2-8e095b0a840f",
   "metadata": {},
   "outputs": [],
   "source": []
  }
 ],
 "metadata": {
  "kernelspec": {
   "display_name": "Python 3 (ipykernel)",
   "language": "python",
   "name": "python3"
  },
  "language_info": {
   "codemirror_mode": {
    "name": "ipython",
    "version": 3
   },
   "file_extension": ".py",
   "mimetype": "text/x-python",
   "name": "python",
   "nbconvert_exporter": "python",
   "pygments_lexer": "ipython3",
   "version": "3.10.7"
  }
 },
 "nbformat": 4,
 "nbformat_minor": 5
}
