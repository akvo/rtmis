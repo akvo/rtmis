{
 "cells": [
  {
   "cell_type": "code",
   "execution_count": 1,
   "id": "2b5c55d5-0107-4307-95c8-eeffc4387243",
   "metadata": {},
   "outputs": [],
   "source": [
    "import requests as r\n",
    "import pandas as pd\n",
    "import json\n",
    "import random\n",
    "from faker import Faker"
   ]
  },
  {
   "cell_type": "code",
   "execution_count": 2,
   "id": "480bd5ad-c3c2-4981-b7eb-06121d44b109",
   "metadata": {},
   "outputs": [],
   "source": [
    "fake = Faker()\n",
    "base_url = 'https://form-service.akvotest.org/api/form/'\n",
    "geopoints_file = './random_households_geo.xlsx'\n",
    "number_of_datapoints = 10"
   ]
  },
  {
   "cell_type": "code",
   "execution_count": 3,
   "id": "7766ea00-04b2-4838-b887-dfaf5d6b05ff",
   "metadata": {},
   "outputs": [],
   "source": [
    "forms = [{\n",
    "    \"id\":1699353915355,\n",
    "    \"name\": \"Households\",\n",
    "    \"registration\": {\n",
    "        \"1699354220734\": \"New\"\n",
    "    },\n",
    "    \"meta\": \"random_households_geo\"\n",
    "},{\n",
    "    \"id\": 1701757876668,\n",
    "    \"name\": \"Wash in Schools\",\n",
    "    \"registration\": {\n",
    "        \"1701757914033\": \"New\"\n",
    "    },\n",
    "    \"meta\": \"base_village\"\n",
    "},{\n",
    "    \"id\": 1699354006503,\n",
    "    \"name\": \"Community\",\n",
    "    \"registration\": {\n",
    "        \"1699354006535\": \"New\"\n",
    "    },\n",
    "    \"meta\": \"base_village\"\n",
    "}]"
   ]
  },
  {
   "cell_type": "code",
   "execution_count": 4,
   "id": "927a9956-f52f-42c4-b5f4-8cc67a280675",
   "metadata": {
    "scrolled": true
   },
   "outputs": [],
   "source": [
    "def generate_fake_data_for_question(question, answers, geo_value):\n",
    "    q_type = question['type']\n",
    "    # Check dependencies\n",
    "    if 'dependency' in question:\n",
    "        for dependency in question['dependency']:\n",
    "            dependent_question_id = dependency['id']\n",
    "            if dependent_question_id not in answers or \\\n",
    "               answers[dependent_question_id] not in dependency.get('options', []):\n",
    "                return None\n",
    "    if q_type == 'input':\n",
    "        return fake.name()\n",
    "    if q_type == 'text':\n",
    "            return fake.paragraph()\n",
    "    elif q_type == 'number':\n",
    "        return random.randint(1, 100)\n",
    "    elif q_type == 'option':\n",
    "        return random.choice(question['option'])['name']\n",
    "    elif q_type == 'multiple_option':\n",
    "        options = [option['name'] for option in question['option']]\n",
    "        num_choices = random.randint(1, len(options))\n",
    "        return random.sample(options, num_choices)\n",
    "    elif q_type == 'date':\n",
    "        return fake.date()\n",
    "    elif q_type == 'geo':\n",
    "        return geo_value\n",
    "    elif q_type == 'autofield':\n",
    "        return \"AUTOFIELD\"\n",
    "    else:\n",
    "        return q_type"
   ]
  },
  {
   "cell_type": "code",
   "execution_count": 5,
   "id": "9166d3fd-de17-49e9-ac33-99081237a74b",
   "metadata": {},
   "outputs": [],
   "source": [
    "def generate_datapoint(questions, geo_value, registration):\n",
    "    fake_datapoint = {}\n",
    "    registration_ids = []\n",
    "    if registration:\n",
    "        fake_datapoint = registration.copy()\n",
    "        registration_ids = [int(reg) for reg in list(registration)]\n",
    "    for question in questions:\n",
    "        answer = None\n",
    "        if question[\"id\"] not in registration_ids:\n",
    "            answer = generate_fake_data_for_question(question, fake_datapoint, geo_value)\n",
    "        else:\n",
    "            answer = registration.get(question[\"id\"])\n",
    "        if answer is not None:\n",
    "            fake_datapoint[question['id']] = answer\n",
    "    return fake_datapoint"
   ]
  },
  {
   "cell_type": "code",
   "execution_count": 6,
   "id": "9892ad55-ce34-415a-889a-93b68c03abc2",
   "metadata": {},
   "outputs": [],
   "source": [
    "def generate_datapoints(form_id, registration, metadata):\n",
    "    req = r.get(f\"{base_url}{form_id}\")\n",
    "    req = req.json()\n",
    "    question_groups = req['question_group']\n",
    "    questions = [\n",
    "        {**question, 'qg_id': group['id']} \n",
    "        for group in question_groups \n",
    "        for question in group['question']\n",
    "    ]\n",
    "    fake_data = []\n",
    "    for i in range(metadata.shape[0]):\n",
    "        meta_row = dict(metadata.iloc[i])\n",
    "        geo_value = {'lat': float(meta_row.get('Latitude')), 'lng': float(meta_row.get('Longitude'))}\n",
    "        fake_datapoint = generate_datapoint(questions, geo_value, registration)\n",
    "        fake_data.append({**meta_row, **fake_datapoint})\n",
    "    return fake_data"
   ]
  },
  {
   "cell_type": "code",
   "execution_count": 7,
   "id": "ec1e4e6b-df55-443c-80ee-93a0da599cb6",
   "metadata": {},
   "outputs": [],
   "source": [
    "def get_metadata(form):\n",
    "    meta = pd.read_excel(geopoints_file, form.get('meta'))\n",
    "    for col in list(meta):\n",
    "        if 'code' in col:\n",
    "            meta[col] = meta[col].astype(int)\n",
    "    return meta"
   ]
  },
  {
   "cell_type": "code",
   "execution_count": 8,
   "id": "5e46acc6-833f-4233-8dad-a0bf7ac3d7e5",
   "metadata": {},
   "outputs": [],
   "source": [
    "for form in forms:\n",
    "    form_id = form['id']\n",
    "    form_name = form['name']\n",
    "    registration = form.get(\"registration\")\n",
    "    metadata = get_metadata(form)\n",
    "    datapoints = generate_datapoints(form_id, registration, metadata)\n",
    "    pd.DataFrame(datapoints).to_csv(f\"{form_id}-{form_name}.csv\",index=False)"
   ]
  },
  {
   "cell_type": "code",
   "execution_count": null,
   "id": "8bcc3e75-f19e-45df-a5d8-ae57bf7535c1",
   "metadata": {},
   "outputs": [],
   "source": []
  }
 ],
 "metadata": {
  "kernelspec": {
   "display_name": "Python 3 (ipykernel)",
   "language": "python",
   "name": "python3"
  },
  "language_info": {
   "codemirror_mode": {
    "name": "ipython",
    "version": 3
   },
   "file_extension": ".py",
   "mimetype": "text/x-python",
   "name": "python",
   "nbconvert_exporter": "python",
   "pygments_lexer": "ipython3",
   "version": "3.10.7"
  }
 },
 "nbformat": 4,
 "nbformat_minor": 5
}
