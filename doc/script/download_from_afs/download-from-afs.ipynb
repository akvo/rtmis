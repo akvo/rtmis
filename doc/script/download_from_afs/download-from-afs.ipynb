{
 "cells": [
  {
   "cell_type": "code",
   "execution_count": 907,
   "id": "329b81e9-c36f-48c9-a7ec-5d6a5afad0df",
   "metadata": {},
   "outputs": [],
   "source": [
    "import requests as r\n",
    "import json\n",
    "import pandas as pd"
   ]
  },
  {
   "cell_type": "code",
   "execution_count": 908,
   "id": "1c316420-85cf-4cb4-9758-a9698580d07e",
   "metadata": {},
   "outputs": [],
   "source": [
    "base_url = 'https://form-service.akvotest.org/api/form/'"
   ]
  },
  {
   "cell_type": "code",
   "execution_count": 909,
   "id": "92df33b7-b7dd-4fa0-8374-6a364a529d0e",
   "metadata": {},
   "outputs": [],
   "source": [
    "forms = [{\n",
    "    \"id\":1699353915355,\n",
    "    \"name\": \"Households\",\n",
    "},{\n",
    "    \"id\": 1701757876668,\n",
    "    \"name\": \"Wash in Schools\",\n",
    "},{\n",
    "    \"id\": 1699354006503,\n",
    "    \"name\": \"Community\",\n",
    "}]"
   ]
  },
  {
   "cell_type": "code",
   "execution_count": 910,
   "id": "74912df0-9bbc-4c58-b31b-823b0719df3d",
   "metadata": {},
   "outputs": [],
   "source": [
    "def question_mapping(row):\n",
    "    qs = pd.DataFrame(row[0]).rename(columns={'name': 'question', 'option': 'options'})\n",
    "    qs = qs.where(pd.notnull(qs), None)\n",
    "    return qs.to_dict('records')"
   ]
  },
  {
   "cell_type": "code",
   "execution_count": 911,
   "id": "86748b83-ba76-4508-b0a6-f11f27d596b8",
   "metadata": {},
   "outputs": [],
   "source": [
    "def generate_form(data):\n",
    "    df = pd.json_normalize(data)\n",
    "    df['type'] = 1\n",
    "    df = df.rename(columns={'name': 'form', 'question_group': 'question_groups'})\n",
    "    df2 = pd.DataFrame(df['question_groups'][0])\n",
    "    df2 = df2.rename(columns={'name': 'question_group', 'question': 'questions'})\n",
    "    df2['questions'] = pd.DataFrame(df2['questions']).apply(question_mapping, axis=1)\n",
    "    qg = df2.to_dict('records')\n",
    "    df['question_groups'] =  df['question_groups'].apply(lambda x: qg)\n",
    "    j = df.to_dict('records')[0]\n",
    "    with open(f\"../../../backend/source/forms-2023/{form_id}.prod.json\", 'w') as f:\n",
    "        json.dump(j, f)"
   ]
  },
  {
   "cell_type": "code",
   "execution_count": 912,
   "id": "c494b44e-2917-4cc4-acae-484b272da97a",
   "metadata": {},
   "outputs": [],
   "source": [
    "for form in forms:\n",
    "    form_id = form['id']\n",
    "    req = r.get(f\"{base_url}{form_id}\")\n",
    "    generate_form(data=req.json())"
   ]
  }
 ],
 "metadata": {
  "kernelspec": {
   "display_name": "Python 3 (ipykernel)",
   "language": "python",
   "name": "python3"
  },
  "language_info": {
   "codemirror_mode": {
    "name": "ipython",
    "version": 3
   },
   "file_extension": ".py",
   "mimetype": "text/x-python",
   "name": "python",
   "nbconvert_exporter": "python",
   "pygments_lexer": "ipython3",
   "version": "3.10.12"
  }
 },
 "nbformat": 4,
 "nbformat_minor": 5
}
