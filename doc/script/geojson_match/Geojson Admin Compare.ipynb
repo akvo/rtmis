{
 "cells": [
  {
   "cell_type": "code",
   "execution_count": 1,
   "id": "c35769ea-8c29-4371-bb0b-31275e10730d",
   "metadata": {},
   "outputs": [],
   "source": [
    "import json\n",
    "import pandas as pd"
   ]
  },
  {
   "cell_type": "code",
   "execution_count": 2,
   "id": "16a5f619-3840-4ee4-a3b6-e354d0ac42ed",
   "metadata": {},
   "outputs": [],
   "source": [
    "with open(\"./kenya.geojson\") as geo:\n",
    "    geo_data = geo.read()"
   ]
  },
  {
   "cell_type": "code",
   "execution_count": 3,
   "id": "cc32b34f-cc82-4e5b-bbf1-8ff454c2caf7",
   "metadata": {},
   "outputs": [],
   "source": [
    "geo_data = json.loads(geo_data)\n",
    "geo_features = geo_data[\"features\"]\n",
    "\n",
    "data_changes = pd.read_csv(\"./Changes_to_shapefile.csv\")\n",
    "data_changes = data_changes.to_dict(\"records\")"
   ]
  },
  {
   "cell_type": "code",
   "execution_count": 4,
   "id": "1765f36c-43db-4ed7-ac6b-e1d4f3aacf64",
   "metadata": {},
   "outputs": [],
   "source": [
    "for i, g in enumerate(geo_features):\n",
    "    feat = g[\"properties\"]\n",
    "    for d in data_changes:\n",
    "        if feat[\"NAME_1\"] == d[\"NAME_1\"] or feat[\"NAME_1\"] == d[\"County\"]:\n",
    "            feat[\"NAME_1\"] = d[\"County\"]\n",
    "            if feat[\"NAME_2\"] == d[\"NAME_2\"] or feat[\"NAME_2\"] == d[\"Sub-County\"]:\n",
    "                feat[\"NAME_2\"] = d[\"Sub-County\"]\n",
    "                if feat[\"NAME_3\"] == d[\"NAME_3\"]:\n",
    "                    feat[\"NAME_3\"] = d[\"Ward\"]"
   ]
  },
  {
   "cell_type": "code",
   "execution_count": 5,
   "id": "e999fa5e-0239-49e7-b48e-461d43a882a5",
   "metadata": {},
   "outputs": [],
   "source": [
    "for i, g in enumerate(geo_features):\n",
    "    feat = g[\"properties\"]\n",
    "    if feat[\"NAME_2\"] == \"805\":\n",
    "        print(\"didn't changed\")\n",
    "geo_data[\"features\"] = geo_features"
   ]
  },
  {
   "cell_type": "code",
   "execution_count": 6,
   "id": "cbf1c55a-d8b8-424d-ac16-0825204aa829",
   "metadata": {},
   "outputs": [],
   "source": [
    "with open('./kenya-new.geojson', 'w') as json_file:\n",
    "    json.dump(geo_data, json_file, indent=4)"
   ]
  },
  {
   "cell_type": "code",
   "execution_count": null,
   "id": "acc8acc4-39d3-4058-94b5-65676b6e5963",
   "metadata": {},
   "outputs": [],
   "source": []
  }
 ],
 "metadata": {
  "kernelspec": {
   "display_name": "Python 3 (ipykernel)",
   "language": "python",
   "name": "python3"
  },
  "language_info": {
   "codemirror_mode": {
    "name": "ipython",
    "version": 3
   },
   "file_extension": ".py",
   "mimetype": "text/x-python",
   "name": "python",
   "nbconvert_exporter": "python",
   "pygments_lexer": "ipython3",
   "version": "3.10.7"
  }
 },
 "nbformat": 4,
 "nbformat_minor": 5
}
