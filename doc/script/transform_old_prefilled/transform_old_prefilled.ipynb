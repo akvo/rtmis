{
 "cells": [
  {
   "cell_type": "code",
   "execution_count": 494,
   "id": "bdec85ba-2d86-4b82-8bd8-8b8a1ce80766",
   "metadata": {},
   "outputs": [],
   "source": [
    "import pandas as pd\n",
    "import json\n",
    "import copy"
   ]
  },
  {
   "cell_type": "code",
   "execution_count": 495,
   "id": "d79b7c28-d3e8-4af4-bea4-7bb893131269",
   "metadata": {},
   "outputs": [],
   "source": [
    "form_id = 1699353915355"
   ]
  },
  {
   "cell_type": "code",
   "execution_count": 496,
   "id": "45fe74f7-9a4e-4dd7-8c2b-30723b64bacc",
   "metadata": {},
   "outputs": [],
   "source": [
    "file_path = f\"../../../backend/source/forms/{form_id}.prod.json\""
   ]
  },
  {
   "cell_type": "code",
   "execution_count": 497,
   "id": "89582cba-3c1c-44bd-b2ca-5b5e14f166bc",
   "metadata": {},
   "outputs": [],
   "source": [
    "questions = []"
   ]
  },
  {
   "cell_type": "code",
   "execution_count": 498,
   "id": "0de84e17-50d8-4bd7-8d93-a49b48f4eeaf",
   "metadata": {},
   "outputs": [],
   "source": [
    "with open(file_path, 'r') as json_file:\n",
    "    data = json.load(json_file)\n",
    "questions += [{\n",
    "    \"question_group\": qg[\"id\"],\n",
    "    **q\n",
    "} for qg in data[\"question_groups\"] for q in qg[\"questions\"]]"
   ]
  },
  {
   "cell_type": "code",
   "execution_count": 499,
   "id": "203c35df-0af0-43ed-bb49-e2619b939104",
   "metadata": {},
   "outputs": [],
   "source": [
    "for q in questions:\n",
    "    find_pre = next(\n",
    "        (\n",
    "            {\n",
    "                item[\"name\"]: {\n",
    "                    item[\"pre\"][\"answer\"]: list(\n",
    "                        filter(lambda f: f[\"id\"] == q[\"id\"], item[\"pre\"][\"fill\"])\n",
    "                    )[0][\"answer\"]\n",
    "                }\n",
    "            }\n",
    "            for item in questions if any(\n",
    "                fill_item[\"id\"] == q[\"id\"] and \"pre\" not in q\n",
    "                for fill_item in item.get(\"pre\", {}).get(\"fill\", [])\n",
    "            )\n",
    "        ),\n",
    "        None\n",
    "    )\n",
    "    if find_pre:\n",
    "        q[\"pre\"] = find_pre"
   ]
  },
  {
   "cell_type": "code",
   "execution_count": 500,
   "id": "fdd0ad9f-2f5f-41fc-bebe-f66de15a0edc",
   "metadata": {},
   "outputs": [],
   "source": [
    "for q in questions:\n",
    "    if \"pre\" in q and \"fill\" in q[\"pre\"]:\n",
    "        del q[\"pre\"]"
   ]
  },
  {
   "cell_type": "code",
   "execution_count": 501,
   "id": "72aa54ae-e445-4788-83f7-0a1c7df9941a",
   "metadata": {},
   "outputs": [],
   "source": [
    "df = pd.json_normalize(data)"
   ]
  },
  {
   "cell_type": "code",
   "execution_count": 502,
   "id": "92602a10-563d-4514-a635-bea7670a6eaf",
   "metadata": {},
   "outputs": [],
   "source": [
    "df2 = pd.DataFrame(df[\"question_groups\"][0])"
   ]
  },
  {
   "cell_type": "code",
   "execution_count": 503,
   "id": "c8575a7c-8c3b-4346-91de-968788a9e731",
   "metadata": {},
   "outputs": [],
   "source": [
    "def group_mapping(row):\n",
    "    qs = list(filter(lambda q: q[\"question_group\"] == row[\"id\"], questions))\n",
    "    qs = copy.deepcopy(qs)\n",
    "    for q in qs:\n",
    "        del q[\"question_group\"]\n",
    "    row[\"questions\"] = qs\n",
    "    return row\n",
    "df2 = df2.apply(group_mapping, axis=1)"
   ]
  },
  {
   "cell_type": "code",
   "execution_count": 504,
   "id": "b5cae69d-101f-4b95-84cd-2d08bdd0bd75",
   "metadata": {},
   "outputs": [],
   "source": [
    "df[\"question_groups\"] = df[\"question_groups\"].apply(lambda x: df2.to_dict(\"records\"))"
   ]
  },
  {
   "cell_type": "code",
   "execution_count": 505,
   "id": "a7d36225-071f-42c9-a57b-e8b00f473ec2",
   "metadata": {},
   "outputs": [],
   "source": [
    "j = df.to_dict('records')[0]"
   ]
  },
  {
   "cell_type": "code",
   "execution_count": 506,
   "id": "9680f255-f6fc-4b9d-8f4c-f208c3c82112",
   "metadata": {},
   "outputs": [],
   "source": [
    "with open(f\"../../../backend/source/forms/{form_id}.prod.json\", 'w') as f:\n",
    "    json.dump(j, f)"
   ]
  }
 ],
 "metadata": {
  "kernelspec": {
   "display_name": "Python 3 (ipykernel)",
   "language": "python",
   "name": "python3"
  },
  "language_info": {
   "codemirror_mode": {
    "name": "ipython",
    "version": 3
   },
   "file_extension": ".py",
   "mimetype": "text/x-python",
   "name": "python",
   "nbconvert_exporter": "python",
   "pygments_lexer": "ipython3",
   "version": "3.10.12"
  }
 },
 "nbformat": 4,
 "nbformat_minor": 5
}
