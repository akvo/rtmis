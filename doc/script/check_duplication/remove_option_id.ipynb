{
 "cells": [
  {
   "cell_type": "code",
   "execution_count": 18,
   "id": "c53642af-b181-4a16-8e15-d629025c3c07",
   "metadata": {},
   "outputs": [],
   "source": [
    "import pandas as pd\n",
    "import json\n",
    "import os"
   ]
  },
  {
   "cell_type": "code",
   "execution_count": 19,
   "id": "21025004-ec3b-4630-9900-d5ce50affa24",
   "metadata": {},
   "outputs": [],
   "source": [
    "dir_path = \"../../../backend/source/forms\""
   ]
  },
  {
   "cell_type": "code",
   "execution_count": 20,
   "id": "c1f41b8e-b278-482c-b5d7-1908c7e92657",
   "metadata": {},
   "outputs": [],
   "source": [
    "files = [f for f in os.listdir(dir_path) if \"prod.json\" in f]"
   ]
  },
  {
   "cell_type": "code",
   "execution_count": 21,
   "id": "92338e37-dc74-4a93-9761-0a4c804d5f5f",
   "metadata": {},
   "outputs": [
    {
     "data": {
      "text/plain": [
       "['1699353915355.prod.json',\n",
       " '1701757876668.prod.json',\n",
       " '1701172125596.prod.json',\n",
       " '1699354006503.prod.json',\n",
       " '1710731783595.prod.json',\n",
       " '1701762893741.prod.json',\n",
       " '1709689683440.prod.json']"
      ]
     },
     "execution_count": 21,
     "metadata": {},
     "output_type": "execute_result"
    }
   ],
   "source": [
    "files"
   ]
  },
  {
   "cell_type": "code",
   "execution_count": 22,
   "id": "1eb2c0f2-c904-4ed6-87d1-a4ee78857dfe",
   "metadata": {},
   "outputs": [],
   "source": [
    "for form_file in files:\n",
    "    file_path = os.path.join(dir_path, form_file)\n",
    "    with open(file_path, 'r') as json_file:\n",
    "        data = json.load(json_file)\n",
    "    for qg in data[\"question_groups\"]:\n",
    "        for q in qg[\"questions\"]:\n",
    "            if q.get(\"options\"):\n",
    "                for o in q[\"options\"]:\n",
    "                    del o[\"id\"]\n",
    "    new_json_file = json.dumps(data, indent=2)\n",
    "    with open(file_path, 'w') as updated_json:\n",
    "        updated_json.write(new_json_file)"
   ]
  },
  {
   "cell_type": "code",
   "execution_count": null,
   "id": "467290ae-edc6-4721-a323-ad93d9cd3381",
   "metadata": {},
   "outputs": [],
   "source": []
  },
  {
   "cell_type": "code",
   "execution_count": null,
   "id": "be705968-0879-4322-8678-ae095716d9aa",
   "metadata": {},
   "outputs": [],
   "source": []
  }
 ],
 "metadata": {
  "kernelspec": {
   "display_name": "Python 3 (ipykernel)",
   "language": "python",
   "name": "python3"
  },
  "language_info": {
   "codemirror_mode": {
    "name": "ipython",
    "version": 3
   },
   "file_extension": ".py",
   "mimetype": "text/x-python",
   "name": "python",
   "nbconvert_exporter": "python",
   "pygments_lexer": "ipython3",
   "version": "3.10.7"
  }
 },
 "nbformat": 4,
 "nbformat_minor": 5
}
