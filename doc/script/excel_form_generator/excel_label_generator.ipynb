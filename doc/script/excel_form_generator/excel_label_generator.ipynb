{
 "cells": [
  {
   "cell_type": "code",
   "execution_count": 1,
   "id": "ac3763e2-5dd3-45a2-99e7-ad608a17a2aa",
   "metadata": {},
   "outputs": [],
   "source": [
    "import json\n",
    "import pandas as pd\n",
    "import os"
   ]
  },
  {
   "cell_type": "code",
   "execution_count": 2,
   "id": "d04e482a-87fa-431d-8992-b5bda98d44e1",
   "metadata": {},
   "outputs": [],
   "source": [
    "directory = \"../../../backend/source/forms/\""
   ]
  },
  {
   "cell_type": "code",
   "execution_count": 3,
   "id": "c74ea19b-3005-4e56-9d41-9cadf54fa5bd",
   "metadata": {},
   "outputs": [],
   "source": [
    "all_items = list(filter(lambda x: \"prod\" in x, os.listdir(directory)))"
   ]
  },
  {
   "cell_type": "code",
   "execution_count": 4,
   "id": "dd4bc8a6-9413-4597-a806-c88ac111619f",
   "metadata": {},
   "outputs": [],
   "source": [
    "for form in all_items:\n",
    "    with open(f\"{directory}{form}\", 'r') as file:\n",
    "        data = file.read()\n",
    "        data = json.loads(data)\n",
    "    questions = []\n",
    "    options = []\n",
    "    for qg in data[\"question_groups\"]:\n",
    "        for q in qg[\"questions\"]:\n",
    "            questions.append({\n",
    "                \"id\": q[\"id\"],\n",
    "                \"name\": q[\"name\"],\n",
    "                \"label\": q[\"label\"],\n",
    "                \"short_label\": q.get(\"short_label\")\n",
    "            })\n",
    "            if q.get(\"options\"):\n",
    "                for o in q[\"options\"]:\n",
    "                    options.append({\n",
    "                        \"question_id\": q[\"id\"],\n",
    "                        \"question_name\": q[\"name\"],\n",
    "                        \"question_label\": q[\"label\"],\n",
    "                        \"id\": o[\"id\"],\n",
    "                        \"value\": o[\"value\"],\n",
    "                        \"label\": o[\"label\"]\n",
    "                    })\n",
    "    file_name = data[\"form\"].replace(\" \",\"_\")\n",
    "    file_name = f\"{file_name}_Updated.xlsx\"\n",
    "    writer = pd.ExcelWriter(f\"./excel_labels/{file_name}\", engine='xlsxwriter')\n",
    "    df = pd.DataFrame(questions)\n",
    "    df.to_excel(writer, sheet_name='questions', index=False)\n",
    "    df = pd.DataFrame(options)\n",
    "    df.to_excel(writer, sheet_name='options', index=False)\n",
    "    writer.save()"
   ]
  }
 ],
 "metadata": {
  "kernelspec": {
   "display_name": "Python 3 (ipykernel)",
   "language": "python",
   "name": "python3"
  },
  "language_info": {
   "codemirror_mode": {
    "name": "ipython",
    "version": 3
   },
   "file_extension": ".py",
   "mimetype": "text/x-python",
   "name": "python",
   "nbconvert_exporter": "python",
   "pygments_lexer": "ipython3",
   "version": "3.10.7"
  }
 },
 "nbformat": 4,
 "nbformat_minor": 5
}
