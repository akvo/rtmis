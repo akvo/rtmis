{
 "cells": [
  {
   "cell_type": "code",
   "execution_count": 1,
   "id": "65dd429f",
   "metadata": {},
   "outputs": [],
   "source": [
    "import pandas as pd\n",
    "import json\n",
    "import os"
   ]
  },
  {
   "cell_type": "code",
   "execution_count": 2,
   "id": "d5858038",
   "metadata": {},
   "outputs": [],
   "source": [
    "dir_path = \"../../backend/source/forms\""
   ]
  },
  {
   "cell_type": "code",
   "execution_count": 3,
   "id": "c6956dda",
   "metadata": {},
   "outputs": [],
   "source": [
    "files = [f for f in os.listdir(dir_path) if \"prod.json\" in f]"
   ]
  },
  {
   "cell_type": "code",
   "execution_count": 4,
   "id": "70c773b1",
   "metadata": {},
   "outputs": [],
   "source": [
    "file_path = os.path.join(dir_path, files[0])\n",
    "with open(file_path, 'r') as json_file:\n",
    "    data = json.load(json_file)"
   ]
  },
  {
   "cell_type": "code",
   "execution_count": 5,
   "id": "d5e78428",
   "metadata": {},
   "outputs": [],
   "source": [
    "form_name = (\"{0}-{1}\").format(data[\"id\"],data[\"form\"].replace(\" \",\"_\"))"
   ]
  },
  {
   "cell_type": "code",
   "execution_count": 6,
   "id": "7bb3c67f",
   "metadata": {},
   "outputs": [],
   "source": [
    "df_list = []\n",
    "for group_index, group in enumerate(data['question_groups']):\n",
    "    for question in group['questions']:\n",
    "        \n",
    "        entry = {\n",
    "            'Group': group_index + 1,\n",
    "            'Group Name': group['question_group'],\n",
    "            'ID': question['id'],\n",
    "            'Question': question['question'],\n",
    "            'Datapoint': \"Yes\" if question.get(\"meta\") else \"No\",\n",
    "            'Type': question['type'],\n",
    "            'Required': \"Yes\" if question.get(\"required\") else \"No\"\n",
    "        }\n",
    "        \n",
    "        # Helper function to append the base entry with additional details\n",
    "        def append_entry(base, opt=None, dep_id=None, dep_opt=None):\n",
    "            new_entry = base.copy()\n",
    "            if opt:\n",
    "                new_entry['Option'] = opt\n",
    "            if dep_id:\n",
    "                new_entry['Dependency'] = dep_id\n",
    "                new_entry['Dependency Option'] = dep_opt\n",
    "            df_list.append(new_entry)\n",
    "        \n",
    "        # If the question has options, iterate through each option\n",
    "        if question.get('options'):\n",
    "            for option in question['options']:\n",
    "                \n",
    "                # If there's a dependency, iterate through each dependency and its options\n",
    "                if question.get('dependency'):\n",
    "                    for dependency in question['dependency']:\n",
    "                        dep_id = dependency['id']\n",
    "                        dep_option = ','.join(dependency['options'])\n",
    "                        append_entry(entry, option['name'], dep_id, dep_option)\n",
    "                else:\n",
    "                    append_entry(entry, option['name'])\n",
    "        else:\n",
    "            # If there's a dependency but no options\n",
    "            if question.get('dependency'):\n",
    "                for dependency in question['dependency']:\n",
    "                    dep_id = dependency['id']\n",
    "                    dep_option = ','.join(dependency['options'])\n",
    "                    append_entry(entry, None, dep_id, dep_option)\n",
    "            else:\n",
    "                append_entry(entry)"
   ]
  },
  {
   "cell_type": "code",
   "execution_count": 7,
   "id": "28aea3ca",
   "metadata": {},
   "outputs": [],
   "source": [
    "df = pd.DataFrame(df_list)"
   ]
  },
  {
   "cell_type": "code",
   "execution_count": 8,
   "id": "77a7165f",
   "metadata": {},
   "outputs": [],
   "source": [
    "multi_indexed_df = df.set_index([\n",
    "    'Group',\n",
    "    'Group Name',\n",
    "    'ID',\n",
    "    'Required',\n",
    "    'Type',\n",
    "    'Question',\n",
    "    'Datapoint',\n",
    "    'Dependency',\n",
    "    'Dependency Option',\n",
    "    'Option',\n",
    "])"
   ]
  },
  {
   "cell_type": "code",
   "execution_count": 9,
   "id": "05161dd8",
   "metadata": {},
   "outputs": [],
   "source": [
    "multi_indexed_df.to_excel(\"./excel_forms/{}.xlsx\".format(form_name))"
   ]
  },
  {
   "cell_type": "code",
   "execution_count": null,
   "id": "65a66211",
   "metadata": {},
   "outputs": [],
   "source": []
  }
 ],
 "metadata": {
  "kernelspec": {
   "display_name": "Python 3 (ipykernel)",
   "language": "python",
   "name": "python3"
  },
  "language_info": {
   "codemirror_mode": {
    "name": "ipython",
    "version": 3
   },
   "file_extension": ".py",
   "mimetype": "text/x-python",
   "name": "python",
   "nbconvert_exporter": "python",
   "pygments_lexer": "ipython3",
   "version": "3.10.7"
  }
 },
 "nbformat": 4,
 "nbformat_minor": 5
}
