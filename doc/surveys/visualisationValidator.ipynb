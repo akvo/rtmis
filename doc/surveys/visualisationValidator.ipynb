{
 "cells": [
  {
   "cell_type": "code",
   "execution_count": null,
   "metadata": {},
   "outputs": [],
   "source": [
    "from jsonpath_ng.ext import parse\n",
    "import json"
   ]
  },
  {
   "cell_type": "code",
   "execution_count": null,
   "metadata": {},
   "outputs": [],
   "source": [
    "visualisation= json.load(open(f'../../backend/source/config/visualisation.json'))"
   ]
  },
  {
   "cell_type": "code",
   "execution_count": null,
   "metadata": {},
   "outputs": [],
   "source": [
    "def getQConfig():\n",
    "    vQs=parse('$[*].id').find(visualisation)\n",
    "    qIds=[]\n",
    "    for vQ in vQs:\n",
    "        qIds.append(vQ.value)\n",
    "    return qIds\n"
   ]
  },
  {
   "cell_type": "code",
   "execution_count": null,
   "metadata": {},
   "outputs": [],
   "source": [
    "def computeMismatch(q):\n",
    "    questionnaire =json.load(open(f\"../../backend/source/forms/{q}.prod.json\"))\n",
    "    vConfig=parse(f'$[?(@.id={q})]').find(visualisation)\n",
    "    charts=vConfig[0].value['charts']\n",
    "    cpath=parse('$[*].options[*].options[*]')\n",
    "    charts=cpath.find(charts)\n",
    "    qArray=[]\n",
    "    for chart in charts:\n",
    "        qArray.append(chart.value)\n",
    "    for idV in qArray:\n",
    "        questionID=idV[\"question\"]\n",
    "        parseStr=f\"$[*].question_groups[*].questions[?(@.id=={questionID})]\"\n",
    "        qparser=parse(parseStr)\n",
    "        questions=qparser.find(questionnaire)\n",
    "        qOptions=questions[0].value['options']\n",
    "        options=[];\n",
    "        for qOption in qOptions:\n",
    "            options.append(qOption['name'])\n",
    "        vOptions=idV['option']\n",
    "        for vOption in vOptions:\n",
    "            if vOption not in options:\n",
    "                print(vOption)\n",
    "                print(options)\n",
    "                print(idV[\"question\"])\n",
    "                print(\"No match found\")\n",
    "\n"
   ]
  },
  {
   "cell_type": "code",
   "execution_count": null,
   "metadata": {},
   "outputs": [],
   "source": [
    "questionCofig=getQConfig()\n",
    "for q in questionCofig: \n",
    "    computeMismatch(q)\n",
    "    print(\"Done\")"
   ]
  }
 ],
 "metadata": {
  "kernelspec": {
   "display_name": "Python 3.8.5 ('rush-b')",
   "language": "python",
   "name": "python3"
  },
  "language_info": {
   "codemirror_mode": {
    "name": "ipython",
    "version": 3
   },
   "file_extension": ".py",
   "mimetype": "text/x-python",
   "name": "python",
   "nbconvert_exporter": "python",
   "pygments_lexer": "ipython3",
   "version": "3.8.5"
  },
  "orig_nbformat": 4,
  "vscode": {
   "interpreter": {
    "hash": "48e9261fc8a6083cfe4353d5fe8acb209db876eff6fa35e59f7495a80e8cb27f"
   }
  }
 },
 "nbformat": 4,
 "nbformat_minor": 2
}
